{
  "nbformat": 4,
  "nbformat_minor": 0,
  "metadata": {
    "colab": {
      "name": "Ex6",
      "provenance": [],
      "collapsed_sections": []
    },
    "kernelspec": {
      "name": "python3",
      "display_name": "Python 3"
    },
    "language_info": {
      "name": "python"
    }
  },
  "cells": [
    {
      "cell_type": "markdown",
      "source": [
        "#Import"
      ],
      "metadata": {
        "id": "iej59zLMTrrO"
      }
    },
    {
      "cell_type": "code",
      "execution_count": null,
      "metadata": {
        "id": "y19aUmRlSoXd"
      },
      "outputs": [],
      "source": [
        "import pandas as pd\n",
        "import sys\n",
        "import io\n",
        "from pprint import pprint\n",
        "from itertools import zip_longest\n",
        "import string"
      ]
    },
    {
      "cell_type": "markdown",
      "source": [
        "#Load Data"
      ],
      "metadata": {
        "id": "NBGFmUGoT8Mh"
      }
    },
    {
      "cell_type": "code",
      "source": [
        "name_of_file = '/content/LP_destinations.csv'\n",
        "df = pd.read_csv(name_of_file,encoding='unicode_escape',index_col=0)\n",
        "df.head()"
      ],
      "metadata": {
        "id": "ctM161qqTv3z"
      },
      "execution_count": null,
      "outputs": []
    },
    {
      "cell_type": "markdown",
      "source": [
        "#counts the number of words in the description of the city"
      ],
      "metadata": {
        "id": "oQUQm58oUNR9"
      }
    },
    {
      "cell_type": "code",
      "source": [
        "df[\"num_of_words\"]= df[\"description\"].str.count(\" \") + 1\n",
        "df.head()"
      ],
      "metadata": {
        "id": "TuTCej7RVMKY"
      },
      "execution_count": null,
      "outputs": []
    },
    {
      "cell_type": "markdown",
      "source": [
        "#contains the text of the description column after removing all new line characters (\\n) and all punctuation marks "
      ],
      "metadata": {
        "id": "ODQPFNGVndhs"
      }
    },
    {
      "cell_type": "code",
      "source": [
        "df[\"No_punct_description\"]= df[\"description\"].str.translate(str.maketrans('', '',\n",
        "string.punctuation))\n",
        "df.head()"
      ],
      "metadata": {
        "id": "KVMejw5cWN0Z"
      },
      "execution_count": null,
      "outputs": []
    },
    {
      "cell_type": "markdown",
      "source": [
        "#contains the number of times the word “restaurant” appears in the description"
      ],
      "metadata": {
        "id": "CevwYyq5nYYv"
      }
    },
    {
      "cell_type": "code",
      "source": [
        "df[\"has_restaurants\"]= df[\"description\"].str.count(\"restaurant\")\n",
        "df.head()"
      ],
      "metadata": {
        "id": "Cdhy8G1JbaIo"
      },
      "execution_count": null,
      "outputs": []
    },
    {
      "cell_type": "markdown",
      "source": [
        "#contains the number of times the word “museum” appears in the description"
      ],
      "metadata": {
        "id": "NawWMhMAnJxg"
      }
    },
    {
      "cell_type": "code",
      "source": [
        "df[\"has_museums\"]= df[\"description\"].str.count(\"museum\")\n",
        "df.head()"
      ],
      "metadata": {
        "id": "ByhPG6OKbyIv"
      },
      "execution_count": null,
      "outputs": []
    },
    {
      "cell_type": "markdown",
      "source": [
        "#contains the number of times the words “beach” or “ocean” or “sea” appears in the description"
      ],
      "metadata": {
        "id": "D2lbIMpfm9Z0"
      }
    },
    {
      "cell_type": "code",
      "source": [
        "df[\"has_beaches\"]= df[\"description\"].str.count(\"beach\")+df[\"description\"].str.count(\"ocean\")+df[\"description\"].str.count(\"sea\")\n",
        "df.head()"
      ],
      "metadata": {
        "id": "aKnpsCBGcEN5"
      },
      "execution_count": null,
      "outputs": []
    },
    {
      "cell_type": "markdown",
      "source": [
        "#calaulate avg num of words"
      ],
      "metadata": {
        "id": "d_NR40ddeKNT"
      }
    },
    {
      "cell_type": "code",
      "source": [
        "print(f'avg words in desc col={df[\"num_of_words\"].mean()}')\n"
      ],
      "metadata": {
        "colab": {
          "base_uri": "https://localhost:8080/"
        },
        "id": "MJgDqbSDc7HS",
        "outputId": "52350da8-e472-43e7-d4b8-775bf9cc9cc3"
      },
      "execution_count": null,
      "outputs": [
        {
          "output_type": "stream",
          "name": "stdout",
          "text": [
            "avg words in desc col=277.07894736842104\n"
          ]
        }
      ]
    },
    {
      "cell_type": "markdown",
      "source": [
        "#the city with the longest description column "
      ],
      "metadata": {
        "id": "cdDraTgheHzg"
      }
    },
    {
      "cell_type": "code",
      "source": [
        "df.loc[df[\"num_of_words\"].idxmax()][\"city\"]"
      ],
      "metadata": {
        "colab": {
          "base_uri": "https://localhost:8080/",
          "height": 36
        },
        "id": "cgsl16RmeHNs",
        "outputId": "146316a0-d2d4-4a48-9978-42cec25fb107"
      },
      "execution_count": null,
      "outputs": [
        {
          "output_type": "execute_result",
          "data": {
            "text/plain": [
              "'Florence'"
            ],
            "application/vnd.google.colaboratory.intrinsic+json": {
              "type": "string"
            }
          },
          "metadata": {},
          "execution_count": 29
        }
      ]
    },
    {
      "cell_type": "markdown",
      "source": [
        "#Histogram"
      ],
      "metadata": {
        "id": "YvhhL7vKgFL6"
      }
    },
    {
      "cell_type": "code",
      "source": [
        "ax=df[\"num_of_words\"].plot(kind='hist')\n",
        "ax.set_xlabel(\"num of words\")\n"
      ],
      "metadata": {
        "id": "GiS17ay-gDre"
      },
      "execution_count": null,
      "outputs": []
    },
    {
      "cell_type": "markdown",
      "source": [
        "# the relationship between number of beaches and number of restaurants"
      ],
      "metadata": {
        "id": "keblXkaVhyHE"
      }
    },
    {
      "cell_type": "code",
      "source": [
        "x=\"has_beaches\"\n",
        "y=\"has_restaurants\"\n",
        "ax1 = df.plot(kind='scatter', x=x, y=y, color='r',title=\"restaurantsVSbeaches\")\n",
        "\n"
      ],
      "metadata": {
        "colab": {
          "base_uri": "https://localhost:8080/",
          "height": 296
        },
        "id": "7xo014Vjhznp",
        "outputId": "dc8bc3bc-e0ed-41f6-d649-4ffa54383f98"
      },
      "execution_count": null,
      "outputs": [
        {
          "output_type": "display_data",
          "data": {
            "text/plain": [
              "<Figure size 432x288 with 1 Axes>"
            ],
            "image/png": "[encoded data removed]"
          },
          "metadata": {
            "needs_background": "light"
          }
        }
      ]
    },
    {
      "cell_type": "markdown",
      "source": [
        "#shows the relationship between number of museums and the number of beaches"
      ],
      "metadata": {
        "id": "S7BGAViylT8s"
      }
    },
    {
      "cell_type": "code",
      "source": [
        "x=\"has_beaches\"\n",
        "y=\"has_museums\"\n",
        "ax1 = df.plot(kind='scatter', x=x, y=y, color='r',title=\"museumsVSbeaches\")\n"
      ],
      "metadata": {
        "colab": {
          "base_uri": "https://localhost:8080/",
          "height": 296
        },
        "id": "nybkMbpalTdS",
        "outputId": "030f3377-f8f1-46a1-ffe9-456a6ed0b6c6"
      },
      "execution_count": null,
      "outputs": [
        {
          "output_type": "display_data",
          "data": {
            "text/plain": [
              "<Figure size 432x288 with 1 Axes>"
            ],
            "image/png": "[encoded data removed]"
          },
          "metadata": {
            "needs_background": "light"
          }
        }
      ]
    }
  ]
}